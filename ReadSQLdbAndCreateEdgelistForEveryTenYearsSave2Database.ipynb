{
 "cells": [
  {
   "cell_type": "code",
   "execution_count": 1,
   "metadata": {},
   "outputs": [],
   "source": [
    "import sqlite3\n",
    "from sqlite3 import Error\n",
    "import pandas as pd\n",
    "import numpy as np\n",
    "\n",
    "def create_connection(db_file):\n",
    "    \"\"\" create a database connection to the SQLite database\n",
    "        specified by db_file\n",
    "    :param db_file: database file\n",
    "    :return: Connection object or None\n",
    "    \"\"\"\n",
    "    try:\n",
    "        conn = sqlite3.connect(db_file)\n",
    "        return conn\n",
    "    except Error as e:\n",
    "        print(e)\n",
    " \n",
    "    return None"
   ]
  },
  {
   "cell_type": "code",
   "execution_count": 104,
   "metadata": {},
   "outputs": [],
   "source": [
    "import networkx as nx"
   ]
  },
  {
   "cell_type": "code",
   "execution_count": 204,
   "metadata": {},
   "outputs": [],
   "source": [
    "import sqlite3\n",
    "conn2 = sqlite3.connect(\"intermediate2.db\")"
   ]
  },
  {
   "cell_type": "code",
   "execution_count": 48,
   "metadata": {},
   "outputs": [],
   "source": [
    "# Elimiate relationships outside the list, and, \n",
    "# Elimiate relationships which the two parties' index year are bigger than 100 years.\n",
    "def filting(relationlist, peoplelist, years):\n",
    "    \n",
    "    tempdf = relationlist.join(peoplelist, on='initiator')\n",
    "    tempdf.columns = ['initiator', 'object', 'weight', 'iniYear', 'iniIn']\n",
    "    tempdf = tempdf.join(peoplelist, on='object')\n",
    "    tempdf.columns = ['initiator', 'object', 'weight','iniYear', 'iniIn', 'objYear', 'objIn' ]\n",
    "    tempdf['keep'] = tempdf.iniIn | tempdf.objIn\n",
    "    tempdf.drop(['iniIn','objIn'], axis = 1, inplace = True)\n",
    "    edgelist = tempdf[tempdf.keep].drop('keep', axis = 1)\n",
    "        \n",
    "    return edgelist[abs(edgelist.iniYear - edgelist.objYear) < years].drop(['iniYear','objYear'],axis = 1)\n",
    "\n"
   ]
  },
  {
   "cell_type": "code",
   "execution_count": 3,
   "metadata": {},
   "outputs": [],
   "source": [
    "databasename = \"../Network Centrality/CBDB_aw_20180831_sqlite.db\"\n",
    " \n",
    "# create a database connection\n",
    "conn = create_connection(databasename)\n",
    "cur = conn.cursor()"
   ]
  },
  {
   "cell_type": "code",
   "execution_count": 52,
   "metadata": {},
   "outputs": [],
   "source": [
    "peopleyear = pd.read_csv(\"../Network Centrality/LindexYear.csv\").set_index('c_personid').dropna()\n",
    "peopleyear.LindexYear = peopleyear.LindexYear.astype('int64')"
   ]
  },
  {
   "cell_type": "code",
   "execution_count": 22,
   "metadata": {
    "scrolled": true
   },
   "outputs": [],
   "source": []
  },
  {
   "cell_type": "markdown",
   "metadata": {},
   "source": [
    "# Get non-kin association "
   ]
  },
  {
   "cell_type": "code",
   "execution_count": 157,
   "metadata": {},
   "outputs": [
    {
     "name": "stderr",
     "output_type": "stream",
     "text": [
      "C:\\ProgramData\\Anaconda3\\envs\\tf\\lib\\site-packages\\pandas\\core\\ops.py:1649: FutureWarning: elementwise comparison failed; returning scalar instead, but in the future will perform elementwise comparison\n",
      "  result = method(y)\n"
     ]
    }
   ],
   "source": [
    "# Use SQL to get association table\n",
    "cur.execute(\"SELECT c_personid AS personA, c_assoc_id AS personB, c_assoc_code from assoc_data\")\n",
    "\n",
    "rows = cur.fetchall() \n",
    "# convert to panda dataframe\n",
    "asso = pd.DataFrame(rows, columns=['initiator', 'object', 'category'])\n",
    "\n",
    "# read weight definition file\n",
    "\n",
    "asso_weight = pd.read_csv(\"../Network Centrality/assoc_codes_weight4.csv\")\n",
    "\n",
    "# drop all columns except association category and weight. \n",
    "asso_weight.drop([\"c_assoc_pair\", \"c_assoc_desc\", \"c_assoc_desc_chn\",\"c_assoc_role_type\", \"c_sortorder\"], axis=1, inplace = True)\n",
    "\n",
    "# Join weight into the association table\n",
    "asso_weighted = asso.join(\n",
    "    asso_weight.set_index(\"c_assoc_code\"),\n",
    "    on = \"category\"\n",
    ")\n",
    "# remove relationships with \"nil\" or \"0\" weight. \n",
    "asso_weighted = asso_weighted [asso_weighted[\"Weight\"]!=\"Nil\"]\n",
    "asso_weighted = asso_weighted [asso_weighted[\"Weight\"]!=0]\n",
    "\n",
    "# dropassociation category\n",
    "asso_weighted.drop(\"category\", axis = 1, inplace = True)"
   ]
  },
  {
   "cell_type": "markdown",
   "metadata": {},
   "source": [
    "# Kin table"
   ]
  },
  {
   "cell_type": "code",
   "execution_count": 64,
   "metadata": {},
   "outputs": [],
   "source": [
    "# Use SQL to get association table\n",
    "#cur.execute(\"SELECT c_personid AS personA, c_kin_id AS personB, c_kin_code from kin_data \\\n",
    "#    WHERE\\\n",
    "#    personA IN (\\\n",
    "#        SELECT c_personid FROM biog_main WHERE c_index_year <= 1912 AND c_index_year >= 618)\\\n",
    "#    AND\\\n",
    "#    c_kin_code IN (75, 82, 107, 111, 135, 138, 163, 168, 176, 180, 182, 183, 184, 185, 186, 188, 191, 193, 194, 195, 196, 198, 199, 202, 204, 205, 206, 207, 211, 212, 213, 220, 221, 222, 226, 227, 229, 230, 231, 234, 235, 307, 326, 327, 329, 334, 335, 339, 343, 344, 363, 373, 377, 378, 420, 436, 437, 439, 440, 450, 451, 452, 453, 454, 455, 456, 457, 458, 467, 468, 559, 560, 575);\")\n",
    "\n",
    "# Use SQL to get association table\n",
    "cur.execute(\"SELECT c_personid AS personA, c_kin_id AS personB, c_kin_code from kin_data \\\n",
    "    WHERE\\\n",
    "    personA IN (\\\n",
    "        SELECT c_personid FROM biog_main WHERE c_index_year <= 3079 AND c_index_year >= 0)\\\n",
    "    AND\\\n",
    "    c_kin_code IN (75, 82, 107, 111, 135, 138, 163, 168, 176, 180, 182, 183, 184, 185, 186, 188, 191, 193, 194, 195, 196, 198, 199, 202, 204, 205, 206, 207, 211, 212, 213, 220, 221, 222, 226, 227, 229, 230, 231, 234, 235, 307, 326, 327, 329, 334, 335, 339, 343, 344, 363, 373, 377, 378, 420, 436, 437, 439, 440, 450, 451, 452, 453, 454, 455, 456, 457, 458, 467, 468, 559, 560, 575);\")\n",
    "\n",
    "\n",
    "\n",
    "rows = cur.fetchall() \n",
    "\n",
    "# convert to panda dataframe\n",
    "dkin = pd.DataFrame(rows, columns=['initiator', 'object', 'category'])\n",
    "\n",
    "# read weight definition file\n",
    "\n",
    "dkin_weight = pd.read_csv(\"../Network Centrality/kincode_direct_w1.csv\")\n",
    "\n",
    "# drop all columns except association category and weight. \n",
    "dkin_weight.drop([\"Name\"], axis=1, inplace = True)\n",
    "\n",
    "# Join weight into the association table\n",
    "dkin_weighted = dkin.join(\n",
    "    dkin_weight.set_index(\"kin_code\"),\n",
    "    on = \"category\"\n",
    ")\n",
    "\n",
    "# remove relationships with \"nil\" or \"0\" weight. \n",
    "\n",
    "dkin_weighted = dkin_weighted [dkin_weighted[\"Weight\"]!=0]\n",
    "\n",
    "# dropassociation category\n",
    "dkin_weighted.drop(\"category\", axis = 1, inplace = True)\n",
    "\n"
   ]
  },
  {
   "cell_type": "markdown",
   "metadata": {},
   "source": [
    "# Process for each decade"
   ]
  },
  {
   "cell_type": "code",
   "execution_count": 94,
   "metadata": {
    "scrolled": true
   },
   "outputs": [],
   "source": [
    "def splitpeople(startyear, endyear, allpeople):\n",
    "       \n",
    "\n",
    "    chosenpeople = allpeople.copy()\n",
    "\n",
    "    chosenpeople['final'] = (chosenpeople.LindexYear >startyear-100) & (chosenpeople.LindexYear <= endyear)\n",
    "\n",
    "    # filter people near the people \n",
    "    filteredkin = filting(dkin_weighted.iloc[:,:3], chosenpeople, 100)\n",
    "    filteredasso = filting(asso_weighted.iloc[:,:3], chosenpeople, 100)\n",
    "    \n",
    "    # concatenate two tables\n",
    "    allasso = pd.concat([filteredkin,filteredasso], axis = 0)\n",
    "\n",
    "    # create \"weight\" columns as float type based on \"Weight\" column and then drop \"Weight\" column\n",
    "    allasso['weight'] = allasso.weight.astype('float')\n",
    "    #allasso.drop('Weight', axis = 1, inplace = True)\n",
    "    # add all weight from the same initiator to the same obeject together\n",
    "    asso_grouped = allasso.groupby([\"initiator\",\"object\"]).agg('sum').reset_index()\n",
    "    \n",
    "    return asso_grouped\n"
   ]
  },
  {
   "cell_type": "markdown",
   "metadata": {},
   "source": [
    "# Calculate two scores"
   ]
  },
  {
   "cell_type": "code",
   "execution_count": 197,
   "metadata": {},
   "outputs": [],
   "source": [
    "def calculateeigenvector(allrel):\n",
    "\n",
    "    # split relationships to positive (assodf) and negative (enemydf)\n",
    "    assodf = allrel[allrel.weight>0]\n",
    "    enemydf = allrel[allrel.weight<0]\n",
    "    \n",
    "    # build a graph based on assodf\n",
    "    G = nx.from_pandas_edgelist(assodf, 'initiator', 'object', ['weight'])\n",
    "    # Calculate the eigenvector centrality (EVC) of assodf\n",
    "    centrality = nx.eigenvector_centrality(G ,max_iter=500, weight = 'weight' )\n",
    "   \n",
    "    \n",
    "    # Build a dataframe based on the eigenvector centrality \n",
    "    evc = pd.DataFrame(data = centrality,index=[0]).T\n",
    "    \n",
    "\n",
    "    evc.columns = ['originalEVC']\n",
    "    # calculate the lowest EVC\n",
    "    minEVC = min(evc.originalEVC)\n",
    "    # set the lowest EVC to ONE and then Logarithm\n",
    "    evc['transformedEV'] =  np.log(evc.originalEVC*np.e/minEVC)\n",
    "    \n",
    "    # save the eigenvector centrality to file\n",
    "    #    evc.to_csv('eigenvectorPositive.csv',header = None)\n",
    "\n",
    "    # find the EVC of the object for each relationship\n",
    "    enemydf = enemydf.join(evc, on='object').fillna(1)\n",
    "    # weighted the relationship with EVC of the object \n",
    "    enemydf['evcWeighted'] =  - enemydf.weight * enemydf.transformedEV\n",
    "    enemydf.drop(['weight','originalEVC','transformedEV'], axis = 1, inplace = True)\n",
    "    # add enemy index by initiator\n",
    "    enemyIndex = enemydf.groupby(['initiator'])['evcWeighted'].agg('sum')\n",
    "    enemyIndex.name = 'nemesis'\n",
    "    #    enemyIndex.to_csv('enemyindex.csv')\n",
    "    \n",
    "    evc.drop(['originalEVC'], axis = 1, inplace = True)\n",
    "    evc.columns = ['status']\n",
    "    \n",
    "    return evc, enemyIndex"
   ]
  },
  {
   "cell_type": "code",
   "execution_count": null,
   "metadata": {},
   "outputs": [],
   "source": []
  },
  {
   "cell_type": "markdown",
   "metadata": {},
   "source": [
    "# statistics"
   ]
  },
  {
   "cell_type": "code",
   "execution_count": 90,
   "metadata": {},
   "outputs": [],
   "source": [
    "raw = pd.read_csv('Song1-9.5onehot.csv')\n",
    "raw = raw[raw.Lindex != 0]"
   ]
  },
  {
   "cell_type": "code",
   "execution_count": null,
   "metadata": {},
   "outputs": [],
   "source": [
    "dataset = raw.copy()"
   ]
  },
  {
   "cell_type": "code",
   "execution_count": null,
   "metadata": {},
   "outputs": [],
   "source": []
  },
  {
   "cell_type": "code",
   "execution_count": null,
   "metadata": {},
   "outputs": [],
   "source": []
  },
  {
   "cell_type": "code",
   "execution_count": null,
   "metadata": {},
   "outputs": [],
   "source": []
  },
  {
   "cell_type": "code",
   "execution_count": null,
   "metadata": {},
   "outputs": [],
   "source": []
  },
  {
   "cell_type": "code",
   "execution_count": null,
   "metadata": {
    "scrolled": true
   },
   "outputs": [],
   "source": [
    "for startingyear in range(960,1280,10):\n",
    "\n"
   ]
  },
  {
   "cell_type": "code",
   "execution_count": 209,
   "metadata": {},
   "outputs": [
    {
     "ename": "PowerIterationFailedConvergence",
     "evalue": "(PowerIterationFailedConvergence(...), 'power iteration failed to converge within 500 iterations')",
     "output_type": "error",
     "traceback": [
      "\u001b[1;31m---------------------------------------------------------------------------\u001b[0m",
      "\u001b[1;31mPowerIterationFailedConvergence\u001b[0m           Traceback (most recent call last)",
      "\u001b[1;32m<ipython-input-209-c23b5b903415>\u001b[0m in \u001b[0;36m<module>\u001b[1;34m\u001b[0m\n\u001b[0;32m      2\u001b[0m     \u001b[0mpeopleslink\u001b[0m \u001b[1;33m=\u001b[0m \u001b[0msplitpeople\u001b[0m\u001b[1;33m(\u001b[0m\u001b[0mstartingyear\u001b[0m\u001b[1;33m,\u001b[0m\u001b[0mstartingyear\u001b[0m\u001b[1;33m+\u001b[0m\u001b[1;36m10\u001b[0m\u001b[1;33m,\u001b[0m\u001b[0mpeopleyear\u001b[0m\u001b[1;33m)\u001b[0m\u001b[1;33m\u001b[0m\u001b[1;33m\u001b[0m\u001b[0m\n\u001b[0;32m      3\u001b[0m     \u001b[0mpeopleslink\u001b[0m\u001b[1;33m.\u001b[0m\u001b[0mto_sql\u001b[0m\u001b[1;33m(\u001b[0m\u001b[1;34m'connection'\u001b[0m\u001b[1;33m+\u001b[0m\u001b[0mstr\u001b[0m\u001b[1;33m(\u001b[0m\u001b[0mstartingyear\u001b[0m\u001b[1;33m)\u001b[0m\u001b[1;33m,\u001b[0m \u001b[0mcon\u001b[0m\u001b[1;33m=\u001b[0m\u001b[0mconn2\u001b[0m\u001b[1;33m,\u001b[0m \u001b[0mif_exists\u001b[0m\u001b[1;33m=\u001b[0m\u001b[1;34m'replace'\u001b[0m\u001b[1;33m)\u001b[0m\u001b[1;33m\u001b[0m\u001b[1;33m\u001b[0m\u001b[0m\n\u001b[1;32m----> 4\u001b[1;33m     \u001b[0mstatues\u001b[0m\u001b[1;33m,\u001b[0m \u001b[0mnemesis\u001b[0m \u001b[1;33m=\u001b[0m \u001b[0mcalculateeigenvector\u001b[0m\u001b[1;33m(\u001b[0m\u001b[0mpeopleslink\u001b[0m\u001b[1;33m)\u001b[0m\u001b[1;33m\u001b[0m\u001b[1;33m\u001b[0m\u001b[0m\n\u001b[0m\u001b[0;32m      5\u001b[0m     \u001b[0mdataset\u001b[0m \u001b[1;33m=\u001b[0m \u001b[0mraw\u001b[0m\u001b[1;33m[\u001b[0m\u001b[1;33m(\u001b[0m\u001b[0mraw\u001b[0m\u001b[1;33m.\u001b[0m\u001b[0mLindex\u001b[0m \u001b[1;33m>\u001b[0m\u001b[0mstartingyear\u001b[0m\u001b[1;33m)\u001b[0m \u001b[1;33m&\u001b[0m \u001b[1;33m(\u001b[0m\u001b[0mraw\u001b[0m\u001b[1;33m.\u001b[0m\u001b[0mLindex\u001b[0m \u001b[1;33m<=\u001b[0m \u001b[0mstartingyear\u001b[0m\u001b[1;33m+\u001b[0m\u001b[1;36m10\u001b[0m\u001b[1;33m)\u001b[0m\u001b[1;33m]\u001b[0m\u001b[1;33m.\u001b[0m\u001b[0mcopy\u001b[0m\u001b[1;33m(\u001b[0m\u001b[1;33m)\u001b[0m\u001b[1;33m\u001b[0m\u001b[1;33m\u001b[0m\u001b[0m\n\u001b[0;32m      6\u001b[0m     \u001b[0mdataset\u001b[0m \u001b[1;33m=\u001b[0m \u001b[0mdataset\u001b[0m\u001b[1;33m.\u001b[0m\u001b[0mjoin\u001b[0m\u001b[1;33m(\u001b[0m\u001b[0mstatues\u001b[0m\u001b[1;33m,\u001b[0m \u001b[0mon\u001b[0m \u001b[1;33m=\u001b[0m \u001b[1;34m'c_personid'\u001b[0m\u001b[1;33m)\u001b[0m\u001b[1;33m.\u001b[0m\u001b[0mfillna\u001b[0m\u001b[1;33m(\u001b[0m\u001b[1;36m0\u001b[0m\u001b[1;33m)\u001b[0m\u001b[1;33m\u001b[0m\u001b[1;33m\u001b[0m\u001b[0m\n",
      "\u001b[1;32m<ipython-input-197-501338ed4c88>\u001b[0m in \u001b[0;36mcalculateeigenvector\u001b[1;34m(allrel)\u001b[0m\n\u001b[0;32m      8\u001b[0m     \u001b[0mG\u001b[0m \u001b[1;33m=\u001b[0m \u001b[0mnx\u001b[0m\u001b[1;33m.\u001b[0m\u001b[0mfrom_pandas_edgelist\u001b[0m\u001b[1;33m(\u001b[0m\u001b[0massodf\u001b[0m\u001b[1;33m,\u001b[0m \u001b[1;34m'initiator'\u001b[0m\u001b[1;33m,\u001b[0m \u001b[1;34m'object'\u001b[0m\u001b[1;33m,\u001b[0m \u001b[1;33m[\u001b[0m\u001b[1;34m'weight'\u001b[0m\u001b[1;33m]\u001b[0m\u001b[1;33m)\u001b[0m\u001b[1;33m\u001b[0m\u001b[1;33m\u001b[0m\u001b[0m\n\u001b[0;32m      9\u001b[0m     \u001b[1;31m# Calculate the eigenvector centrality (EVC) of assodf\u001b[0m\u001b[1;33m\u001b[0m\u001b[1;33m\u001b[0m\u001b[1;33m\u001b[0m\u001b[0m\n\u001b[1;32m---> 10\u001b[1;33m     \u001b[0mcentrality\u001b[0m \u001b[1;33m=\u001b[0m \u001b[0mnx\u001b[0m\u001b[1;33m.\u001b[0m\u001b[0meigenvector_centrality\u001b[0m\u001b[1;33m(\u001b[0m\u001b[0mG\u001b[0m \u001b[1;33m,\u001b[0m\u001b[0mmax_iter\u001b[0m\u001b[1;33m=\u001b[0m\u001b[1;36m500\u001b[0m\u001b[1;33m,\u001b[0m \u001b[0mweight\u001b[0m \u001b[1;33m=\u001b[0m \u001b[1;34m'weight'\u001b[0m \u001b[1;33m)\u001b[0m\u001b[1;33m\u001b[0m\u001b[1;33m\u001b[0m\u001b[0m\n\u001b[0m\u001b[0;32m     11\u001b[0m \u001b[1;33m\u001b[0m\u001b[0m\n\u001b[0;32m     12\u001b[0m \u001b[1;33m\u001b[0m\u001b[0m\n",
      "\u001b[1;32m<C:\\ProgramData\\Anaconda3\\envs\\tf\\lib\\site-packages\\decorator.py:decorator-gen-264>\u001b[0m in \u001b[0;36meigenvector_centrality\u001b[1;34m(G, max_iter, tol, nstart, weight)\u001b[0m\n",
      "\u001b[1;32mC:\\ProgramData\\Anaconda3\\envs\\tf\\lib\\site-packages\\networkx\\utils\\decorators.py\u001b[0m in \u001b[0;36m_not_implemented_for\u001b[1;34m(not_implement_for_func, *args, **kwargs)\u001b[0m\n\u001b[0;32m     80\u001b[0m             \u001b[1;32mraise\u001b[0m \u001b[0mnx\u001b[0m\u001b[1;33m.\u001b[0m\u001b[0mNetworkXNotImplemented\u001b[0m\u001b[1;33m(\u001b[0m\u001b[0mmsg\u001b[0m\u001b[1;33m)\u001b[0m\u001b[1;33m\u001b[0m\u001b[1;33m\u001b[0m\u001b[0m\n\u001b[0;32m     81\u001b[0m         \u001b[1;32melse\u001b[0m\u001b[1;33m:\u001b[0m\u001b[1;33m\u001b[0m\u001b[1;33m\u001b[0m\u001b[0m\n\u001b[1;32m---> 82\u001b[1;33m             \u001b[1;32mreturn\u001b[0m \u001b[0mnot_implement_for_func\u001b[0m\u001b[1;33m(\u001b[0m\u001b[1;33m*\u001b[0m\u001b[0margs\u001b[0m\u001b[1;33m,\u001b[0m \u001b[1;33m**\u001b[0m\u001b[0mkwargs\u001b[0m\u001b[1;33m)\u001b[0m\u001b[1;33m\u001b[0m\u001b[1;33m\u001b[0m\u001b[0m\n\u001b[0m\u001b[0;32m     83\u001b[0m     \u001b[1;32mreturn\u001b[0m \u001b[0m_not_implemented_for\u001b[0m\u001b[1;33m\u001b[0m\u001b[1;33m\u001b[0m\u001b[0m\n\u001b[0;32m     84\u001b[0m \u001b[1;33m\u001b[0m\u001b[0m\n",
      "\u001b[1;32mC:\\ProgramData\\Anaconda3\\envs\\tf\\lib\\site-packages\\networkx\\algorithms\\centrality\\eigenvector.py\u001b[0m in \u001b[0;36meigenvector_centrality\u001b[1;34m(G, max_iter, tol, nstart, weight)\u001b[0m\n\u001b[0;32m    148\u001b[0m         \u001b[1;32mif\u001b[0m \u001b[0msum\u001b[0m\u001b[1;33m(\u001b[0m\u001b[0mabs\u001b[0m\u001b[1;33m(\u001b[0m\u001b[0mx\u001b[0m\u001b[1;33m[\u001b[0m\u001b[0mn\u001b[0m\u001b[1;33m]\u001b[0m \u001b[1;33m-\u001b[0m \u001b[0mxlast\u001b[0m\u001b[1;33m[\u001b[0m\u001b[0mn\u001b[0m\u001b[1;33m]\u001b[0m\u001b[1;33m)\u001b[0m \u001b[1;32mfor\u001b[0m \u001b[0mn\u001b[0m \u001b[1;32min\u001b[0m \u001b[0mx\u001b[0m\u001b[1;33m)\u001b[0m \u001b[1;33m<\u001b[0m \u001b[0mnnodes\u001b[0m \u001b[1;33m*\u001b[0m \u001b[0mtol\u001b[0m\u001b[1;33m:\u001b[0m\u001b[1;33m\u001b[0m\u001b[1;33m\u001b[0m\u001b[0m\n\u001b[0;32m    149\u001b[0m             \u001b[1;32mreturn\u001b[0m \u001b[0mx\u001b[0m\u001b[1;33m\u001b[0m\u001b[1;33m\u001b[0m\u001b[0m\n\u001b[1;32m--> 150\u001b[1;33m     \u001b[1;32mraise\u001b[0m \u001b[0mnx\u001b[0m\u001b[1;33m.\u001b[0m\u001b[0mPowerIterationFailedConvergence\u001b[0m\u001b[1;33m(\u001b[0m\u001b[0mmax_iter\u001b[0m\u001b[1;33m)\u001b[0m\u001b[1;33m\u001b[0m\u001b[1;33m\u001b[0m\u001b[0m\n\u001b[0m\u001b[0;32m    151\u001b[0m \u001b[1;33m\u001b[0m\u001b[0m\n\u001b[0;32m    152\u001b[0m \u001b[1;33m\u001b[0m\u001b[0m\n",
      "\u001b[1;31mPowerIterationFailedConvergence\u001b[0m: (PowerIterationFailedConvergence(...), 'power iteration failed to converge within 500 iterations')"
     ]
    }
   ],
   "source": [
    "for startingyear in range(1090,1091,10):\n",
    "    peopleslink = splitpeople(startingyear,startingyear+10,peopleyear)\n",
    "    peopleslink.to_sql('connection'+str(startingyear), con=conn2, if_exists='replace')    \n",
    "    statues, nemesis = calculateeigenvector(peopleslink)\n",
    "    dataset = raw[(raw.Lindex >startingyear) & (raw.Lindex <= startingyear+10)].copy()\n",
    "    dataset = dataset.join(statues, on = 'c_personid').fillna(0)\n",
    "    dataset = dataset.join(nemesis, on = 'c_personid').fillna(0)\n",
    "    dataset.to_sql('dataset'+str(startingyear), con=conn2, if_exists='replace')"
   ]
  },
  {
   "cell_type": "code",
   "execution_count": null,
   "metadata": {},
   "outputs": [],
   "source": []
  },
  {
   "cell_type": "code",
   "execution_count": null,
   "metadata": {},
   "outputs": [],
   "source": []
  }
 ],
 "metadata": {
  "kernelspec": {
   "display_name": "Python 3",
   "language": "python",
   "name": "python3"
  },
  "language_info": {
   "codemirror_mode": {
    "name": "ipython",
    "version": 3
   },
   "file_extension": ".py",
   "mimetype": "text/x-python",
   "name": "python",
   "nbconvert_exporter": "python",
   "pygments_lexer": "ipython3",
   "version": "3.7.3"
  }
 },
 "nbformat": 4,
 "nbformat_minor": 2
}
